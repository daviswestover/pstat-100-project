{
 "cells": [
  {
   "cell_type": "code",
   "execution_count": 2,
   "metadata": {},
   "outputs": [],
   "source": [
    "# libraries\n"
   ]
  },

  {
   "cell_type": "markdown",
   "metadata": {},
   "source": [
    "## Group information\n",
    "\n",
    "**Group members**:\n",
    "Davis Westover, \n\n",
    "**Contributions**:\n",
    "1. Davis Westover wrote the Background.\n",
    "2. Member 2 worked on tidying the dataset.\n",
    "3. Member 3 ..."
   ]
  },
  {
   "cell_type": "markdown",
   "metadata": {},
   "source": [
    "---\n",
    "## 0. Background\n",
    "\n"
   ]
  },
  {
   "cell_type": "markdown",
   "metadata": {},
   "source": [
    "     For this project we will be studying basketball statistics. The NBA has tracked statistics like points, assists, and rebounds for decades, but as we have learned how much data can help us determine value and optimization, more and more statistics have been tracked. In 2022, even things like average speed a player runs at and total distance traveled are estimated. This is because in competitive sports, any advantage that can be gained is extremely valuable. Teams like the Oakland A's have found incredible success relying on data over any collection of human opinions and biases. In this project we will use looking at individual player statistics to attempt to discern what trends correlate to better players. We are interested in finding out if taking a higher percent of 3 pointers raises your point average, or if someone's assist to turnover ratio can predict what their plus-minus (The difference between their team and the other team's points scored while a player is in the game), because if we can, it could lead to a championship."
   ]
  },
  {
   "cell_type": "markdown",
   "metadata": {},
   "source": [
    "---\n",
    "## 1. Data description\n",
    "\n",
    "This section should introduce your dataset in detail. It should reflect your having gone through the collect/acquaint/tidy stages of the lifecycle. Below I've provided you with an outline. You do not need to adhere to this strictly -- in fact, it would be more natural to divide the items among a few short paragraphs -- but you should touch on each item in a format that suits your project."
   ]
  },
  {
   "cell_type": "markdown",
   "metadata": {},
   "source": [
    ""
   ]
  },
  {
   "cell_type": "markdown",
   "metadata": {},
   "source": [
    "### Data semantics and structure\n",
    "\n",
    "**Units and observations**: State the observational units.\n",
    "\n",
    "**Variable descriptions**: Provide a table of variable descriptions. If your dataset is large and you'll only work with a subset of the total available variables, limit your attention to the variables that you'll work with. Here's a template you can work with:\n",
    "\n",
    "Name | Variable description | Type | Units of measurement\n",
    "---|---|---|---\n",
    "PLAYER_NAME | Name of Player | String | N/A \n",
    "PLAYER_ID| Unique ID for each player | Numeric | N/A \n",
    "PLAYER_ID| Unique ID for each player | Numeric | N/A \n",
    "PLAYER_ID| Unique ID for each player | Numeric | N/A \n",
    "\n",
    "\n",
    "**Example rows**: Print a few example rows of your dataset in tidy format. Please don't include the codes you used to manipulate the raw data. Do that in a separate notebook and export the result to a .csv file -- `data.to_csv('tidy-data.csv')` -- to load directly into the cell below."
   ]
  },
  {
   "cell_type": "markdown",
   "metadata": {},
   "source": [
    "*Start your draft here.*"
   ]
  },
  {
   "cell_type": "code",
   "execution_count": 3,
   "metadata": {},
   "outputs": [],
   "source": [
    "# load tidied data and print rows\n"
   ]
  },
  {
   "cell_type": "markdown",
   "metadata": {},
   "source": [
    "---\n",
    "## 2. Initial explorations\n",
    "\n",
    "At this stage, you may spend most of your effort on the computing side tidying up the data. You're not expected to complete a thorough exploratory analysis, and if your dataset was especially messy to start with, you may not even begin your exploratory analysis by the time you prepare this report. You have the option to leave exploration for the next stage of work and simply report basic properties of the dataset, but you should at minimum address the items in the 'basic properties' section below."
   ]
  },
  {
   "cell_type": "markdown",
   "metadata": {},
   "source": [
    "### Basic properties of the dataset\n",
    "\n",
    "Help the reader get acquainted with your dataset on a simple level by identifying characteristics of the dataset and variable summaries. Some amount of code is fine here, but try to use code cells sparingly.\n",
    "\n",
    "**Dimensions**: The data has 645,953 columns and 12 rows. \n",
    "\n",
    "**Missing values**: There are missing values for players because when they recieve DNP's (Did not play), they are still listed, but without reported stats. These are the only rows with missing data.\n",
    "\n",
    "**Variable summaries**:\n",
    "\n",
    "FGA Average: 7.891, Highest FGA: 50.0 \n",
    "\n",
    "FG_PCT Average: 0.416, Highest FG_PCT: 1.0\n",
    "\n",
    "FG3A Average: 2.152, Highest FG3A: 24.0\n",
    "\n",
    "FG3_PCT: 0.199, Highest FG3_PCT: 1.0\n",
    "\n",
    "FTA: 2.289, Highest FTA: 39.0\n",
    "\n",
    "FT_PCT Average: 0.436, Highest FT_PCT: 1.0\n",
    "\n",
    "REB: 4.06, Highest REB: 31.0\n",
    "\n",
    "AST Average: 2.098, Highest AST: 25.0\n",
    "\n",
    "TO Average: 1.322, Highest TO: 12.0\n",
    "\n",
    "PTS Average: 9.665, Highest PTS: 81.0\n",
    "\n",
    "PLUS_MINUS Average: -0.001, Highest PLUS_MINUS: 57.0\n"
   ]
  },
  {
   "cell_type": "markdown",
   "metadata": {},
   "source": [
    "---\n",
    "## 3. Planned work\n",
    "\n",
    "Here you should indicate your tentative ideas for your analysis. Don't worry, these aren't final -- you can always change your mind later or shift gears if they don't pan out. The objective is to have you start thinking ahead about what you'll do."
   ]
  },
  {
   "cell_type": "markdown",
   "metadata": {},
   "source": [
    "### Questions\n",
    "\n",
    "Please propose two focused questions that you plan to explore.\n",
    "\n",
    "1. *What are the 2 or 3 most valuable skills a player can have to contribute to a championship level team?*\n",
    "2. *Is there a correlation between 3 point attempts and total points?*"
   ]
  },
  {
   "cell_type": "markdown",
   "metadata": {},
   "source": [
    "### Proposed approaches\n",
    "\n",
    "For each question, please describe an idea or two about how you might approach the question.\n",
    "\n",
    "1. *Analyze the players of recent years' championship teams and compare which statistics/variables have the most overlap as well as taking a closer look at which statistics overlap on the highest scoring players as well as the Final MVP's of each series. Could dabble with PCA here.* \n",
    "2. *Take the average of three point attempts per game of each team and graph it against their average final total points per game.Could also take a closer look by comparing teams with the highest three point attempts and comparing their average game points with teams that have the lowest three point attempts per game.*"
   ]
  },
  {
   "cell_type": "markdown",
   "metadata": {
    "tags": []
   },
   "source": [
    "---\n",
    "## Submission Checklist\n",
    "1. Save file to confirm all changes are on disk\n",
    "2. Run *Kernel > Restart & Run All* to execute all code from top to bottom\n",
    "3. Save file again to write any new output to disk\n",
    "4. Generate PDF and submit to Gradescope"
   ]
  }
 ],
 "metadata": {
  "kernelspec": {
   "display_name": "Python 3 (ipykernel)",
   "language": "python",
   "name": "python3"
  },
  "language_info": {
   "codemirror_mode": {
    "name": "ipython",
    "version": 3
   },
   "file_extension": ".py",
   "mimetype": "text/x-python",
   "name": "python",
   "nbconvert_exporter": "python",
   "pygments_lexer": "ipython3",
   "version": "3.9.10"
  }
 },
 "nbformat": 4,
 "nbformat_minor": 4
}
